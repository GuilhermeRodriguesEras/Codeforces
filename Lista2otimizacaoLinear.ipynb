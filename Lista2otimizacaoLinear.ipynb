{
 "cells": [
  {
   "cell_type": "code",
   "execution_count": 1,
   "id": "1ea5d680",
   "metadata": {},
   "outputs": [],
   "source": [
    "from pulp import *\n"
   ]
  },
  {
   "cell_type": "code",
   "execution_count": null,
   "id": "f8928917",
   "metadata": {},
   "outputs": [
    {
     "name": "stdout",
     "output_type": "stream",
     "text": [
      "Optimal\n",
      "6.0\n",
      "x1 =4.0 , x2 =0.0 , x3 =0.0 , x4 =1.0 \n"
     ]
    }
   ],
   "source": [
    "#Prob1 (a)\n",
    "prob = LpProblem(\"linear_problem\", LpMaximize)\n",
    "x1 = LpVariable(\"x1\", cat = \"Countinuous\", lowBound=0)\n",
    "x2 = LpVariable(\"x2\", cat = \"Continuous\", lowBound=0)\n",
    "x3 = LpVariable(\"x3\", cat = \"Continuous\", lowBound=0)\n",
    "x4 = LpVariable(\"x4\", cat = \"Continuous\", lowBound=0)\n",
    "\n",
    "prob += x1 + x2 - 2* x3 + 2 * x4 # funcao objetivo\n",
    "\n",
    "prob += x1 - x2 - x3 -2*x4 >= 2\n",
    "prob += x1 + x2 + x4 <= 8\n",
    "prob += x1 + 2*x2 - x3 == 4\n",
    "\n",
    "prob.solve()\n",
    "\n",
    "print (LpStatus[prob.status])\n",
    "print (value(prob.objective))\n",
    "\n",
    "print ('x1 ={}, x2 ={}, x3 ={}, x4 ={}'.format(value(x1), value(x2) , value(x3) , value(x4)))\n"
   ]
  },
  {
   "cell_type": "code",
   "execution_count": null,
   "id": "e27ca38f",
   "metadata": {},
   "outputs": [
    {
     "name": "stdout",
     "output_type": "stream",
     "text": [
      "Optimal\n",
      "5.83333333\n",
      "x1 =0.33333333 , x2 =1.5 , x3 =0.0 , x4 =2.0 , x5 =0.0 \n"
     ]
    }
   ],
   "source": [
    "#Prob1 (b)\n",
    "prob = LpProblem(\"linear_problem\", LpMinimize)\n",
    "x1 = LpVariable(\"x1\", cat = \"Countinuous\", lowBound=0)\n",
    "x2 = LpVariable(\"x2\", cat = \"Continuous\", lowBound=0)\n",
    "x3 = LpVariable(\"x3\", cat = \"Continuous\", lowBound=0)\n",
    "x4 = LpVariable(\"x4\", cat = \"Continuous\", lowBound=0)\n",
    "x5 = LpVariable(\"x5\", cat = \"Continuous\", lowBound=0)\n",
    "\n",
    "prob += x1 + 3*x2 + 4*x3 + 0.5*x4 # funcao objetivo\n",
    "\n",
    "prob += 3*x1 + 2*x2 - x3 >= 4\n",
    "prob += x3 + x4 >= 2\n",
    "prob += 2*x2 + x3 - x5 >= 3\n",
    "\n",
    "prob.solve()\n",
    "\n",
    "print (LpStatus[prob.status])\n",
    "print (value(prob.objective))\n",
    "\n",
    "print ('x1 ={}, x2 ={}, x3 ={}, x4 ={}, x5 ={}'.format(value(x1), value(x2) , value(x3) , value(x4), value(x5)))\n"
   ]
  },
  {
   "cell_type": "code",
   "execution_count": null,
   "id": "9a8901db",
   "metadata": {},
   "outputs": [
    {
     "name": "stdout",
     "output_type": "stream",
     "text": [
      "Optimal\n",
      "8.6666666\n",
      "x1 =7.3333333 , x2 =1.3333333 \n"
     ]
    }
   ],
   "source": [
    "#Prob1 (c)\n",
    "prob = LpProblem(\"linear_problem\", LpMaximize)\n",
    "x1 = LpVariable(\"x1\", cat = \"Countinuous\", lowBound=0)\n",
    "x2 = LpVariable(\"x2\", cat = \"Continuous\", lowBound=0)\n",
    "\n",
    "prob += x1 + x2 # funcao objetivo\n",
    "\n",
    "prob += x1 + 2*x2 <= 10\n",
    "prob += 2*x1 + x2 <= 16\n",
    "prob += -x1 + x2 <= 3\n",
    "\n",
    "prob.solve()\n",
    "\n",
    "print (LpStatus[prob.status])\n",
    "print (value(prob.objective))\n",
    "\n",
    "print ('x1 ={}, x2 ={}'.format(value(x1), value(x2)))\n"
   ]
  },
  {
   "cell_type": "code",
   "execution_count": 16,
   "id": "86d87127",
   "metadata": {},
   "outputs": [
    {
     "name": "stdout",
     "output_type": "stream",
     "text": [
      "Optimal\n",
      "7.0\n",
      "x1 =4.0, x2 =1.0 \n"
     ]
    }
   ],
   "source": [
    "#Prob1 (d)\n",
    "prob = LpProblem(\"linear_problem\", LpMinimize)\n",
    "x1 = LpVariable(\"x1\", cat = \"Continuous\", lowBound=0)\n",
    "x2 = LpVariable(\"x2\", cat = \"Continuous\", lowBound=0)\n",
    "\n",
    "prob += x1 + 3*x2 # funcao objetivo\n",
    "\n",
    "prob += x1 + 2*x2 >= 6\n",
    "prob += x1 - x2 <= 3\n",
    "\n",
    "prob.solve()\n",
    "\n",
    "print (LpStatus[prob.status])\n",
    "print (value(prob.objective))\n",
    "\n",
    "print ('x1 ={}, x2 ={} '.format(value(x1), value(x2)))"
   ]
  },
  {
   "cell_type": "code",
   "execution_count": 18,
   "id": "2f3b885d",
   "metadata": {},
   "outputs": [
    {
     "name": "stdout",
     "output_type": "stream",
     "text": [
      "Optimal\n",
      "27.0\n",
      "x1 =3.0 , x2 =3.0 \n"
     ]
    }
   ],
   "source": [
    "#Prob1 (e)\n",
    "prob = LpProblem(\"linear_problem\", LpMaximize)\n",
    "x1 = LpVariable(\"x1\", cat = \"Continuous\", lowBound=0)\n",
    "x2 = LpVariable(\"x2\", cat = \"Continuous\", lowBound=0)\n",
    "\n",
    "prob += 4*x1 + 5*x2 # funcao objetivo\n",
    "\n",
    "prob += 2*x1 + x2 <= 9\n",
    "prob += x1 <= 4\n",
    "prob += x2 <= 3\n",
    "\n",
    "prob.solve()\n",
    "\n",
    "print (LpStatus[prob.status])\n",
    "print (value(prob.objective))\n",
    "\n",
    "print ('x1 ={} , x2 ={} '.format(value(x1), value(x2)))"
   ]
  }
 ],
 "metadata": {
  "kernelspec": {
   "display_name": "Python 3",
   "language": "python",
   "name": "python3"
  },
  "language_info": {
   "codemirror_mode": {
    "name": "ipython",
    "version": 3
   },
   "file_extension": ".py",
   "mimetype": "text/x-python",
   "name": "python",
   "nbconvert_exporter": "python",
   "pygments_lexer": "ipython3",
   "version": "3.13.1"
  }
 },
 "nbformat": 4,
 "nbformat_minor": 5
}
